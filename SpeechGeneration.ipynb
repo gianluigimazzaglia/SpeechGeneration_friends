{
  "nbformat": 4,
  "nbformat_minor": 0,
  "metadata": {
    "colab": {
      "name": "SpeechGeneration.ipynb",
      "provenance": [],
      "collapsed_sections": [],
      "authorship_tag": "ABX9TyNRTh2i1cS0Y3siu2x+s93f",
      "include_colab_link": true
    },
    "kernelspec": {
      "name": "python3",
      "display_name": "Python 3"
    },
    "language_info": {
      "name": "python"
    },
    "accelerator": "GPU"
  },
  "cells": [
    {
      "cell_type": "markdown",
      "metadata": {
        "id": "view-in-github",
        "colab_type": "text"
      },
      "source": [
        "<a href=\"https://colab.research.google.com/github/gianluigimazzaglia/SpeechGeneration_friends/blob/main/SpeechGeneration.ipynb\" target=\"_parent\"><img src=\"https://colab.research.google.com/assets/colab-badge.svg\" alt=\"Open In Colab\"/></a>"
      ]
    },
    {
      "cell_type": "code",
      "execution_count": 1,
      "metadata": {
        "id": "SMZuKQIt2syY"
      },
      "outputs": [],
      "source": [
        "# Imports\n",
        "import random\n",
        "import torch\n",
        "import torch.nn as nn\n",
        "import torch.nn.functional as F\n",
        "import torch.backends.cudnn as cudnn; cudnn.benchmark = True"
      ]
    },
    {
      "cell_type": "code",
      "source": [
        "!gdown --id 1syp8QemrZ4sZtaY-2-DwIXx0630VhK4l"
      ],
      "metadata": {
        "colab": {
          "base_uri": "https://localhost:8080/"
        },
        "id": "zwzSC1Kd2_T7",
        "outputId": "7231364b-319f-4af4-dfed-d8ca1316ada3"
      },
      "execution_count": 2,
      "outputs": [
        {
          "output_type": "stream",
          "name": "stdout",
          "text": [
            "/usr/local/lib/python3.7/dist-packages/gdown/cli.py:131: FutureWarning: Option `--id` was deprecated in version 4.3.1 and will be removed in 5.0. You don't need to pass it anymore to use a file ID.\n",
            "  category=FutureWarning,\n",
            "Downloading...\n",
            "From: https://drive.google.com/uc?id=1syp8QemrZ4sZtaY-2-DwIXx0630VhK4l\n",
            "To: /content/Friends_Transcript.txt\n",
            "100% 4.90M/4.90M [00:00<00:00, 41.2MB/s]\n"
          ]
        }
      ]
    },
    {
      "cell_type": "code",
      "source": [
        "# Options\n",
        "data_path = \"Friends_Transcript.txt\"\n",
        "batch_size = 8\n",
        "batch_seq_len = 16\n",
        "embed_size = 512\n",
        "rnn_size = 1024"
      ],
      "metadata": {
        "id": "cW1Exhx64UnN"
      },
      "execution_count": 4,
      "outputs": []
    },
    {
      "cell_type": "code",
      "source": [
        "# Load data\n",
        "with open(data_path) as f:\n",
        "    text = f.read()\n",
        "# Skip notice\n",
        "text = text[180:]  # we eliminated the first part of the text that represents just a description meaningless"
      ],
      "metadata": {
        "id": "hoTCs3It4jYv"
      },
      "execution_count": 5,
      "outputs": []
    },
    {
      "cell_type": "code",
      "source": [
        "text[:200]"
      ],
      "metadata": {
        "colab": {
          "base_uri": "https://localhost:8080/",
          "height": 53
        },
        "id": "Qnypc91v4o0O",
        "outputId": "90ffd76a-a43f-4a5a-e1ff-919986a49b15"
      },
      "execution_count": 6,
      "outputs": [
        {
          "output_type": "execute_result",
          "data": {
            "text/plain": [
              "\"Monica: There's nothing to tell! He's just some guy I work with!\\nJoey: C'mon, you're going out with the guy! There's gotta be something wrong with him!\\nChandler: All right Joey, be nice. So does he ha\""
            ],
            "application/vnd.google.colaboratory.intrinsic+json": {
              "type": "string"
            }
          },
          "metadata": {},
          "execution_count": 6
        }
      ]
    },
    {
      "cell_type": "code",
      "source": [
        "### Replace punctuation with tokens ###\n",
        "# Create token dictionary\n",
        "token_dict = {\".\": \"|fullstop|\",\n",
        "              \",\": \"|comma|\",\n",
        "              \"\\\"\": \"|quote|\",\n",
        "              \";\": \"|semicolon|\",\n",
        "              \"!\": \"|exclamation|\",\n",
        "              \"?\": \"|question|\",\n",
        "              \"(\": \"|leftparen|\",\n",
        "              \")\": \"|rightparen|\",\n",
        "              \"--\": \"|dash|\",\n",
        "              \"\\n\": \"|newline|\"\n",
        "}\n",
        "# Replace punctuation\n",
        "for punct, token in token_dict.items():\n",
        "    text = text.replace(punct, f' {token} ')"
      ],
      "metadata": {
        "id": "tRVGaAvjE5M0"
      },
      "execution_count": 7,
      "outputs": []
    },
    {
      "cell_type": "code",
      "source": [
        "#Print sample\n",
        "text[:200]"
      ],
      "metadata": {
        "colab": {
          "base_uri": "https://localhost:8080/",
          "height": 53
        },
        "id": "ZPY-Pzmh6XBF",
        "outputId": "bf9002a2-d8fa-4411-b590-ce0e95f1ddd1"
      },
      "execution_count": 8,
      "outputs": [
        {
          "output_type": "execute_result",
          "data": {
            "text/plain": [
              "\"Monica: There's nothing to tell |exclamation|  He's just some guy I work with |exclamation|  |newline| Joey: C'mon |comma|  you're going out with the guy |exclamation|  There's gotta be something wron\""
            ],
            "application/vnd.google.colaboratory.intrinsic+json": {
              "type": "string"
            }
          },
          "metadata": {},
          "execution_count": 8
        }
      ]
    },
    {
      "cell_type": "code",
      "source": [
        "### Compute vocabulary ###\n",
        "\n",
        "# Split words\n",
        "words = text.split(\" \")\n",
        "# Remove empty words\n",
        "words = [word for word in words if len(word) > 0]\n",
        "# Remove duplicates\n",
        "vocab = list(set(words))  #we have just unique word in vocab"
      ],
      "metadata": {
        "id": "0aEThXpH6rfV"
      },
      "execution_count": 9,
      "outputs": []
    },
    {
      "cell_type": "code",
      "source": [
        "for i, w in enumerate(vocab[:5]):\n",
        "  print(i, w)"
      ],
      "metadata": {
        "colab": {
          "base_uri": "https://localhost:8080/"
        },
        "id": "Ar2hO0Ap69LM",
        "outputId": "dd496512-933f-4f24-de81-ffbd197e5ca5"
      },
      "execution_count": 10,
      "outputs": [
        {
          "output_type": "stream",
          "name": "stdout",
          "text": [
            "0 ice-cream\n",
            "1 bright\n",
            "2 cool\n",
            "3 pals'\n",
            "4 Peter\n"
          ]
        }
      ]
    },
    {
      "cell_type": "code",
      "source": [
        "# Create maps between words\n",
        "vocab_to_int = {word: i for i,word in enumerate(vocab)}\n",
        "int_to_vocab = {i: word for i,word in enumerate(vocab)}\n",
        "#vocab_to_int['bright']   for example this work is a key and it is transformed in integ 1"
      ],
      "metadata": {
        "colab": {
          "base_uri": "https://localhost:8080/"
        },
        "id": "PcCQ5o6f8KKA",
        "outputId": "bbcac013-de35-49c6-89bf-2840a735a4d0"
      },
      "execution_count": 33,
      "outputs": [
        {
          "output_type": "execute_result",
          "data": {
            "text/plain": [
              "1"
            ]
          },
          "metadata": {},
          "execution_count": 33
        }
      ]
    },
    {
      "cell_type": "code",
      "source": [
        "# Compute number of words\n",
        "num_words = len(vocab)\n",
        "print(num_words)  # it is the total of unique words"
      ],
      "metadata": {
        "colab": {
          "base_uri": "https://localhost:8080/"
        },
        "id": "r_M525YH8OiU",
        "outputId": "7e6254da-9a2d-4338-b67e-cb7bc0d2a282"
      },
      "execution_count": 34,
      "outputs": [
        {
          "output_type": "stream",
          "name": "stdout",
          "text": [
            "27750\n"
          ]
        }
      ]
    },
    {
      "cell_type": "code",
      "source": [
        "print(len([word for word in text.split(\" \") if len(word) > 0]))"
      ],
      "metadata": {
        "colab": {
          "base_uri": "https://localhost:8080/"
        },
        "id": "Pua1I9X48Tgn",
        "outputId": "644fdfe5-eaec-45f3-808f-e31e5ea85f84"
      },
      "execution_count": 41,
      "outputs": [
        {
          "output_type": "stream",
          "name": "stdout",
          "text": [
            "1207503\n"
          ]
        }
      ]
    },
    {
      "cell_type": "code",
      "source": [
        "# Convert text to integers\n",
        "text_ints = [vocab_to_int[word] for word in text.split(\" \") if len(word) > 0] \n",
        "text_ints[:5]"
      ],
      "metadata": {
        "colab": {
          "base_uri": "https://localhost:8080/"
        },
        "id": "9SAJzKsk8mVF",
        "outputId": "43f193c0-385c-42c0-e543-340729bb91a8"
      },
      "execution_count": 21,
      "outputs": [
        {
          "output_type": "execute_result",
          "data": {
            "text/plain": [
              "[3285, 23412, 17988, 8153, 607]"
            ]
          },
          "metadata": {},
          "execution_count": 21
        }
      ]
    },
    {
      "cell_type": "code",
      "source": [
        "len(text_ints) #of course the length of this must be equals to the length of num of word because they are just converted in integer"
      ],
      "metadata": {
        "colab": {
          "base_uri": "https://localhost:8080/"
        },
        "id": "70c1Wiou8oVB",
        "outputId": "1088a219-768d-4289-b408-db6cf3c71f94"
      },
      "execution_count": 42,
      "outputs": [
        {
          "output_type": "execute_result",
          "data": {
            "text/plain": [
              "1207503"
            ]
          },
          "metadata": {},
          "execution_count": 42
        }
      ]
    },
    {
      "cell_type": "code",
      "source": [
        "# Estimate average scene length\n",
        "num_scenes = len(text.split(\"|newline|  |newline|  |newline|\"))\n",
        "print(len(text_ints)/num_scenes)"
      ],
      "metadata": {
        "colab": {
          "base_uri": "https://localhost:8080/"
        },
        "id": "FdnWfJIk8e7Y",
        "outputId": "1e10b43d-a00d-4d3f-e22f-d332fd73953e"
      },
      "execution_count": 17,
      "outputs": [
        {
          "output_type": "stream",
          "name": "stdout",
          "text": [
            "241500.6\n"
          ]
        }
      ]
    },
    {
      "cell_type": "code",
      "source": [
        "new_text = [word for word in text.split(\" \") if len(word) > 0]\n",
        "inputs = new_text[:5]\n",
        "target = new_text[1:5]\n",
        "\n",
        "print(inputs)\n",
        "print(target)"
      ],
      "metadata": {
        "colab": {
          "base_uri": "https://localhost:8080/"
        },
        "id": "u2kbUBI78wuk",
        "outputId": "904b0522-650d-47bf-a276-759f19abc3dd"
      },
      "execution_count": 18,
      "outputs": [
        {
          "output_type": "stream",
          "name": "stdout",
          "text": [
            "['Monica:', \"There's\", 'nothing', 'to', 'tell']\n",
            "[\"There's\", 'nothing', 'to', 'tell']\n"
          ]
        }
      ]
    },
    {
      "cell_type": "code",
      "source": [
        "# Set scene length (should be multiple of batch_seq_len)\n",
        "scene_length = 256"
      ],
      "metadata": {
        "id": "gPjCDZcy85Nh"
      },
      "execution_count": 19,
      "outputs": []
    }
  ]
}